{
 "cells": [
  {
   "cell_type": "code",
   "execution_count": 1,
   "metadata": {},
   "outputs": [],
   "source": [
    "import pandas as pd\n",
    "from PIL import Image\n",
    "import matplotlib.pyplot as plt\n",
    "import numpy as np\n",
    "from PIL import ImageSequence\n",
    "import os"
   ]
  },
  {
   "cell_type": "code",
   "execution_count": 2,
   "metadata": {},
   "outputs": [
    {
     "name": "stdout",
     "output_type": "stream",
     "text": [
      "              model_name                                             prompt  \\\n",
      "0     our_frames_no_grid  A flower blooming from a bud to full bloom ove...   \n",
      "1     our_frames_no_grid  A cat chasing a laser pointer dot across the r...   \n",
      "2     our_frames_no_grid                A rotating 3D cube changing colors.   \n",
      "3     our_frames_no_grid  A sunrise over the mountains turning into dayt...   \n",
      "4     our_frames_no_grid   A person morphing into a wolf under a full moon.   \n",
      "..                   ...                                                ...   \n",
      "195  chatgpt_frames_grid              A snake slithering through the grass.   \n",
      "196  chatgpt_frames_grid          A paintbrush changing colors as it moves.   \n",
      "197  chatgpt_frames_grid              A volcano erupting with lava flowing.   \n",
      "198  chatgpt_frames_grid                            An eye blinking slowly.   \n",
      "199  chatgpt_frames_grid                     A paper crumpling into a ball.   \n",
      "\n",
      "         clip   ms_ssim     lpips  temporal_consistency_loss  \n",
      "0    0.257815  0.042178  0.837041                   0.408641  \n",
      "1    0.281653  0.077616  0.669313                   0.494602  \n",
      "2    0.290098  0.217879  0.630486                   0.442147  \n",
      "3    0.266251  0.195174  0.628006                   0.328236  \n",
      "4    0.270773  0.092073  0.692574                   0.361961  \n",
      "..        ...       ...       ...                        ...  \n",
      "195  0.308635  0.342181  0.443098                   0.153816  \n",
      "196  0.293054  0.631151  0.330084                   0.131178  \n",
      "197  0.286386  0.591810  0.385971                   0.136079  \n",
      "198  0.257360  0.776547  0.278600                   0.085134  \n",
      "199  0.267903  0.758719  0.267530                   0.080767  \n",
      "\n",
      "[200 rows x 6 columns]\n"
     ]
    }
   ],
   "source": [
    "our_frames_no_grid = '../../output/tests/gif_ablation_study/our_frames_no_grid/SD/gif_stats.csv'\n",
    "chatgpt_frames_no_grid = '../../output/tests/gif_ablation_study/chatgpt_frames_no_grid/SD/gif_stats.csv'\n",
    "chatgpt_frames_grid = '../../output/tests/gif_ablation_study/chatgpt_frames_grid/SD/gif_stats.csv'\n",
    "\n",
    "data_our_frames_no_grid = pd.read_csv(our_frames_no_grid)\n",
    "data_chatgpt_frames_no_grid = pd.read_csv(chatgpt_frames_no_grid)\n",
    "data_chatgpt_frames_grid = pd.read_csv(chatgpt_frames_grid)\n",
    "\n",
    "# Add model names to each dataset\n",
    "data_our_frames_no_grid['model_name'] = 'our_frames_no_grid'\n",
    "data_chatgpt_frames_no_grid['model_name'] = 'chatgpt_frames_no_grid'\n",
    "data_chatgpt_frames_grid['model_name'] = 'chatgpt_frames_grid'\n",
    "\n",
    "# Select relevant columns\n",
    "columns = ['model_name', 'prompt', 'clip', 'ms_ssim', 'lpips', 'temporal_consistency_loss']\n",
    "model_data_our_frames_no_grid = data_our_frames_no_grid[columns]\n",
    "model_data_chatgpt_frames_no_grid = data_chatgpt_frames_no_grid[columns]\n",
    "model_data_chatgpt_frames_grid = data_chatgpt_frames_grid[columns]\n",
    "\n",
    "# Concatenate all model data\n",
    "all_model_data = pd.concat([ model_data_our_frames_no_grid, model_data_chatgpt_frames_no_grid, model_data_chatgpt_frames_grid], ignore_index=True)\n",
    "\n",
    "# Display the combined DataFrame\n",
    "print(all_model_data)\n"
   ]
  },
  {
   "cell_type": "code",
   "execution_count": 3,
   "metadata": {},
   "outputs": [
    {
     "name": "stdout",
     "output_type": "stream",
     "text": [
      "\n",
      "Average metrics by model:\n",
      "                            clip   ms_ssim     lpips  \\\n",
      "model_name                                             \n",
      "chatgpt_frames_grid     0.275563  0.588118  0.384020   \n",
      "chatgpt_frames_no_grid  0.259140  0.131995  0.723372   \n",
      "our_frames_no_grid      0.268245  0.123528  0.685848   \n",
      "\n",
      "                        temporal_consistency_loss  \n",
      "model_name                                         \n",
      "chatgpt_frames_grid                      0.157294  \n",
      "chatgpt_frames_no_grid                   0.389152  \n",
      "our_frames_no_grid                       0.403228  \n"
     ]
    }
   ],
   "source": [
    "# Calculate mean values for each metric grouped by model_name\n",
    "metric_columns = ['clip', 'ms_ssim', 'lpips', 'temporal_consistency_loss']\n",
    "avg_metrics = all_model_data.groupby('model_name')[metric_columns].mean()\n",
    "\n",
    "# Display the average metrics\n",
    "print(\"\\nAverage metrics by model:\")\n",
    "print(avg_metrics)"
   ]
  },
  {
   "cell_type": "code",
   "execution_count": 4,
   "metadata": {},
   "outputs": [
    {
     "name": "stdout",
     "output_type": "stream",
     "text": [
      "\n",
      "Average metrics by model:\n",
      "                                 clip        ms_ssim          lpips  \\\n",
      "model_name                                                            \n",
      "chatgpt_frames_grid     0.276 ± 0.022  0.588 ± 0.129  0.384 ± 0.094   \n",
      "chatgpt_frames_no_grid  0.259 ± 0.021  0.132 ± 0.052  0.723 ± 0.043   \n",
      "our_frames_no_grid      0.268 ± 0.026  0.124 ± 0.082  0.686 ± 0.062   \n",
      "\n",
      "                       temporal_consistency_loss  combined_loss  \n",
      "model_name                                                       \n",
      "chatgpt_frames_grid                0.157 ± 0.062  0.819 ± 0.391  \n",
      "chatgpt_frames_no_grid             0.389 ± 0.046  2.314 ± 0.156  \n",
      "our_frames_no_grid                 0.403 ± 0.078  2.294 ± 0.252  \n"
     ]
    }
   ],
   "source": [
    "# Step 1: Normalize each metric (0-1 scaling)\n",
    "all_model_data['ms_ssim_norm'] = 1 - ((all_model_data['ms_ssim'] - all_model_data['ms_ssim'].min()) / (all_model_data['ms_ssim'].max() - all_model_data['ms_ssim'].min()))\n",
    "all_model_data['lpips_norm'] = (all_model_data['lpips'] - all_model_data['lpips'].min()) / (all_model_data['lpips'].max() - all_model_data['lpips'].min())\n",
    "all_model_data['temporal_consistency_loss_norm'] = (all_model_data['temporal_consistency_loss'] - all_model_data['temporal_consistency_loss'].min()) / (all_model_data['temporal_consistency_loss'].max() - all_model_data['temporal_consistency_loss'].min())\n",
    "\n",
    "# Step 2: Compute combined normalized loss\n",
    "all_model_data['combined_loss'] = all_model_data['ms_ssim_norm'] + all_model_data['lpips_norm'] + all_model_data['temporal_consistency_loss_norm']\n",
    "\n",
    "# Calculate mean values and standard deviations for each metric grouped by model_name\n",
    "metric_columns = ['clip', 'ms_ssim', 'lpips', 'temporal_consistency_loss', 'combined_loss']\n",
    "avg_metrics = all_model_data.groupby('model_name')[metric_columns].agg(['mean', 'std'])\n",
    "\n",
    "# Format the output with ± and 3 decimal places\n",
    "formatted_metrics = pd.DataFrame(index=avg_metrics.index)\n",
    "for metric in metric_columns:\n",
    "    formatted_metrics[metric] = avg_metrics[metric]['mean'].round(3).astype(str) + ' ± ' + avg_metrics[metric]['std'].round(3).astype(str)\n",
    "\n",
    "# Display the average metrics\n",
    "print(\"\\nAverage metrics by model:\")\n",
    "print(formatted_metrics)"
   ]
  },
  {
   "cell_type": "code",
   "execution_count": 5,
   "metadata": {},
   "outputs": [],
   "source": [
    " # Get our frames with grid from main results"
   ]
  },
  {
   "cell_type": "code",
   "execution_count": 6,
   "metadata": {},
   "outputs": [],
   "source": [
    "def generate_gif_figure(gif_path, n=4, save_name=None, spacing=True):\n",
    "    gif = Image.open(gif_path)\n",
    "    frames = [frame.copy() for frame in ImageSequence.Iterator(gif)]\n",
    "\n",
    "    total_frames = len(frames)\n",
    "    indices = np.linspace(0, total_frames - 1, n, dtype=int)\n",
    "\n",
    "    # Create a figure with n equally spaced frames\n",
    "    fig, axes = plt.subplots(1, n, figsize=(3 * n, 5))\n",
    "    for ax, idx in zip(axes, indices):\n",
    "        ax.imshow(frames[idx])\n",
    "        ax.axis('off')\n",
    "\n",
    "    if not spacing:\n",
    "        plt.subplots_adjust(wspace=0, hspace=0)\n",
    "\n",
    "    plt.subplots_adjust(left=0, right=1, top=1, bottom=0)\n",
    "\n",
    "    if save_name is not None:\n",
    "        fig.savefig(save_name, bbox_inches='tight', pad_inches=0)\n",
    "    else:\n",
    "        plt.show()\n",
    "\n",
    "    plt.close(fig)"
   ]
  },
  {
   "cell_type": "code",
   "execution_count": 7,
   "metadata": {},
   "outputs": [],
   "source": [
    "our_frames_grid = '../../output/tests/gif_prev_work_comparison/SD/a_cup_of_coffee_being_poured_w_f24_b3_g11.0_ip0.0_VideoText_previous.gif'\n",
    "chatgpt_frames_grid = '../../output/tests/gif_ablation_study/chatgpt_frames_grid/SD/a_cup_of_coffee_being_poured_w_f24_b3_g11.0_ip0.0_VideoText_previous.gif'\n",
    "chatgpt_frames_no_grid = '../../output/tests/gif_ablation_study/chatgpt_frames_no_grid/SD/a_cup_of_coffee_being_poured_w_f24_b3_g11.0_ip0.0_VideoText_previous.gif'\n",
    "our_frames_no_grid = '../../output/tests/gif_ablation_study/our_frames_no_grid/SD/a_cup_of_coffee_being_poured_w_f24_b3_g11.0_ip0.0_VideoText_previous.gif'\n",
    "\n",
    "os.makedirs('a_cup_of_coffee_being_poured_w', exist_ok=True)\n",
    "\n",
    "generate_gif_figure(our_frames_grid, save_name='a_cup_of_coffee_being_poured_w/our_frames_grid.png', n=4, spacing=False)\n",
    "generate_gif_figure(chatgpt_frames_grid, save_name='a_cup_of_coffee_being_poured_w/chatgpt_frames_grid.png', n=4, spacing=False)\n",
    "generate_gif_figure(chatgpt_frames_no_grid, save_name='a_cup_of_coffee_being_poured_w/chatgpt_frames_no_grid.png', n=4, spacing=False)\n",
    "generate_gif_figure(our_frames_no_grid, save_name='a_cup_of_coffee_being_poured_w/our_frames_no_grid.png', n=4, spacing=False)\n",
    "\n",
    "\n"
   ]
  },
  {
   "cell_type": "code",
   "execution_count": null,
   "metadata": {},
   "outputs": [],
   "source": []
  }
 ],
 "metadata": {
  "kernelspec": {
   "display_name": "EIDT_env",
   "language": "python",
   "name": "python3"
  },
  "language_info": {
   "codemirror_mode": {
    "name": "ipython",
    "version": 3
   },
   "file_extension": ".py",
   "mimetype": "text/x-python",
   "name": "python",
   "nbconvert_exporter": "python",
   "pygments_lexer": "ipython3",
   "version": "3.12.3"
  }
 },
 "nbformat": 4,
 "nbformat_minor": 2
}
